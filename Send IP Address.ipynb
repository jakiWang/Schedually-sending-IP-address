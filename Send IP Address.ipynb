{
 "cells": [
  {
   "cell_type": "markdown",
   "id": "a7c36d1f-b0b8-430b-802d-18dac63d3011",
   "metadata": {},
   "source": [
    "\n",
    "Firstly, make sure to include your **email address** for both the recipient and sender in the code, along with the **password** for the sender's account. \n",
    "\n",
    "If you're using Gmail to send emails and encountering issues with login credentials, it's important to address the security settings. Follow these steps to ensure a smooth email sending process:\n",
    "\n",
    "- Enable **Two-Step Verification**: Go to your Google Account Page, navigate to the Security section, and enable Two-Step Verification. This feature adds an extra layer of security to your account.\n",
    "\n",
    "- Generate an **App Password**: Once Two-Step Verification is enabled, scroll down to the \"Signing in to Google\" section. Find the \"App Password\" option and generate a new password specifically for email access.\n",
    "\n",
    "For more detailed instructions and information, you can refer to the following (Stack Overflow)[https://stackoverflow.com/questions/16512592/login-credentials-not-working-with-gmail-smtp] post.\n",
    "\n",
    "Then you can try the following program, adjusting the time to your preferred one, and canceling the automatic email sending by the cancer() function if needed.\n"
   ]
  },
  {
   "cell_type": "code",
   "execution_count": 2,
   "id": "405823e8-be21-4f0d-9d04-281869ac5101",
   "metadata": {},
   "outputs": [
    {
     "name": "stdout",
     "output_type": "stream",
     "text": [
      "10.69.122.220\n"
     ]
    },
    {
     "ename": "SMTPAuthenticationError",
     "evalue": "(535, b'5.7.8 Username and Password not accepted. For more information, go to\\n5.7.8  https://support.google.com/mail/?p=BadCredentials d2e1a72fcca58-70b43898de8sm4544891b3a.27 - gsmtp')",
     "output_type": "error",
     "traceback": [
      "\u001b[0;31m---------------------------------------------------------------------------\u001b[0m",
      "\u001b[0;31mSMTPAuthenticationError\u001b[0m                   Traceback (most recent call last)",
      "Cell \u001b[0;32mIn[2], line 27\u001b[0m\n\u001b[1;32m     24\u001b[0m     server\u001b[38;5;241m.\u001b[39msendmail(fromaddr, toaddrs, msg)  \n\u001b[1;32m     25\u001b[0m     server\u001b[38;5;241m.\u001b[39mquit()\n\u001b[0;32m---> 27\u001b[0m sendIP()\n\u001b[1;32m     28\u001b[0m \u001b[38;5;66;03m#schedule.every().day.at(\"11:00\").do(sendIP)\u001b[39;00m\n\u001b[1;32m     30\u001b[0m \u001b[38;5;28;01mdef\u001b[39;00m \u001b[38;5;21mcancle\u001b[39m():\n",
      "Cell \u001b[0;32mIn[2], line 23\u001b[0m, in \u001b[0;36msendIP\u001b[0;34m()\u001b[0m\n\u001b[1;32m     21\u001b[0m server\u001b[38;5;241m.\u001b[39mehlo()\n\u001b[1;32m     22\u001b[0m server\u001b[38;5;241m.\u001b[39mstarttls()\n\u001b[0;32m---> 23\u001b[0m server\u001b[38;5;241m.\u001b[39mlogin(username, password)  \n\u001b[1;32m     24\u001b[0m server\u001b[38;5;241m.\u001b[39msendmail(fromaddr, toaddrs, msg)  \n\u001b[1;32m     25\u001b[0m server\u001b[38;5;241m.\u001b[39mquit()\n",
      "File \u001b[0;32m/opt/anaconda3/lib/python3.11/smtplib.py:750\u001b[0m, in \u001b[0;36mSMTP.login\u001b[0;34m(self, user, password, initial_response_ok)\u001b[0m\n\u001b[1;32m    747\u001b[0m         last_exception \u001b[38;5;241m=\u001b[39m e\n\u001b[1;32m    749\u001b[0m \u001b[38;5;66;03m# We could not login successfully.  Return result of last attempt.\u001b[39;00m\n\u001b[0;32m--> 750\u001b[0m \u001b[38;5;28;01mraise\u001b[39;00m last_exception\n",
      "File \u001b[0;32m/opt/anaconda3/lib/python3.11/smtplib.py:739\u001b[0m, in \u001b[0;36mSMTP.login\u001b[0;34m(self, user, password, initial_response_ok)\u001b[0m\n\u001b[1;32m    737\u001b[0m method_name \u001b[38;5;241m=\u001b[39m \u001b[38;5;124m'\u001b[39m\u001b[38;5;124mauth_\u001b[39m\u001b[38;5;124m'\u001b[39m \u001b[38;5;241m+\u001b[39m authmethod\u001b[38;5;241m.\u001b[39mlower()\u001b[38;5;241m.\u001b[39mreplace(\u001b[38;5;124m'\u001b[39m\u001b[38;5;124m-\u001b[39m\u001b[38;5;124m'\u001b[39m, \u001b[38;5;124m'\u001b[39m\u001b[38;5;124m_\u001b[39m\u001b[38;5;124m'\u001b[39m)\n\u001b[1;32m    738\u001b[0m \u001b[38;5;28;01mtry\u001b[39;00m:\n\u001b[0;32m--> 739\u001b[0m     (code, resp) \u001b[38;5;241m=\u001b[39m \u001b[38;5;28mself\u001b[39m\u001b[38;5;241m.\u001b[39mauth(\n\u001b[1;32m    740\u001b[0m         authmethod, \u001b[38;5;28mgetattr\u001b[39m(\u001b[38;5;28mself\u001b[39m, method_name),\n\u001b[1;32m    741\u001b[0m         initial_response_ok\u001b[38;5;241m=\u001b[39minitial_response_ok)\n\u001b[1;32m    742\u001b[0m     \u001b[38;5;66;03m# 235 == 'Authentication successful'\u001b[39;00m\n\u001b[1;32m    743\u001b[0m     \u001b[38;5;66;03m# 503 == 'Error: already authenticated'\u001b[39;00m\n\u001b[1;32m    744\u001b[0m     \u001b[38;5;28;01mif\u001b[39;00m code \u001b[38;5;129;01min\u001b[39;00m (\u001b[38;5;241m235\u001b[39m, \u001b[38;5;241m503\u001b[39m):\n",
      "File \u001b[0;32m/opt/anaconda3/lib/python3.11/smtplib.py:662\u001b[0m, in \u001b[0;36mSMTP.auth\u001b[0;34m(self, mechanism, authobject, initial_response_ok)\u001b[0m\n\u001b[1;32m    660\u001b[0m \u001b[38;5;28;01mif\u001b[39;00m code \u001b[38;5;129;01min\u001b[39;00m (\u001b[38;5;241m235\u001b[39m, \u001b[38;5;241m503\u001b[39m):\n\u001b[1;32m    661\u001b[0m     \u001b[38;5;28;01mreturn\u001b[39;00m (code, resp)\n\u001b[0;32m--> 662\u001b[0m \u001b[38;5;28;01mraise\u001b[39;00m SMTPAuthenticationError(code, resp)\n",
      "\u001b[0;31mSMTPAuthenticationError\u001b[0m: (535, b'5.7.8 Username and Password not accepted. For more information, go to\\n5.7.8  https://support.google.com/mail/?p=BadCredentials d2e1a72fcca58-70b43898de8sm4544891b3a.27 - gsmtp')"
     ]
    }
   ],
   "source": [
    "\n",
    "import smtplib\n",
    "import socket\n",
    "import schedule\n",
    "import time\n",
    "\n",
    "fromaddr = 'your sending address'  \n",
    "toaddrs  = 'your receiving address'   \n",
    "      \n",
    "# log-in account\n",
    "username = 'your email account'  \n",
    "password = 'your pass word here'\n",
    "\n",
    "\n",
    "def sendIP():\n",
    "    hostname = socket.gethostname()\n",
    "    ipv4_address = socket.gethostbyname(hostname)\n",
    "    print(ipv4_address)\n",
    "    msg = ipv4_address\n",
    "    \n",
    "    server = smtplib.SMTP('smtp.gmail.com', 587)  \n",
    "    server.ehlo()\n",
    "    server.starttls()\n",
    "    server.login(username, password)  \n",
    "    server.sendmail(fromaddr, toaddrs, msg)  \n",
    "    server.quit()\n",
    "\n",
    "schedule.every().day.at(\"11:00\").do(sendIP)\n",
    "\n",
    "def cancle():\n",
    "    job_to_cancle = schedule.every().day.at(\"18:00\").do(sendIP)\n",
    "    schedule.cancle_job(job_to_cancle)\n",
    "    \n",
    "while True:\n",
    "    schedule.run_pending()\n",
    "    time.sleep(1)\n",
    "\n",
    "#cancle()"
   ]
  },
  {
   "cell_type": "code",
   "execution_count": null,
   "id": "6a77e721-3ffe-400b-8d91-fcf5497cb9df",
   "metadata": {},
   "outputs": [],
   "source": []
  }
 ],
 "metadata": {
  "kernelspec": {
   "display_name": "Python 3 (ipykernel)",
   "language": "python",
   "name": "python3"
  },
  "language_info": {
   "codemirror_mode": {
    "name": "ipython",
    "version": 3
   },
   "file_extension": ".py",
   "mimetype": "text/x-python",
   "name": "python",
   "nbconvert_exporter": "python",
   "pygments_lexer": "ipython3",
   "version": "3.11.7"
  }
 },
 "nbformat": 4,
 "nbformat_minor": 5
}
