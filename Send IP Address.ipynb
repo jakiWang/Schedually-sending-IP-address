{
 "cells": [
  {
   "cell_type": "markdown",
   "id": "a7c36d1f-b0b8-430b-802d-18dac63d3011",
   "metadata": {},
   "source": [
    "\n",
    "Firstly, make sure to include your **email address** for both the recipient and sender in the code, along with the **password** for the sender's account. \n",
    "\n",
    "If you're using Gmail to send emails and encountering issues with login credentials, it's important to address the security settings. Follow these steps to ensure a smooth email sending process:\n",
    "\n",
    "- Enable **Two-Step Verification**: Go to your Google Account Page, navigate to the Security section, and enable Two-Step Verification. This feature adds an extra layer of security to your account.\n",
    "\n",
    "- Generate an **App Password**: Once Two-Step Verification is enabled, scroll down to the \"Signing in to Google\" section. Find the \"App Password\" option and generate a new password specifically for email access.\n",
    "\n",
    "For more detailed instructions and information, you can refer to the following (Stack Overflow)[https://stackoverflow.com/questions/16512592/login-credentials-not-working-with-gmail-smtp] post.\n",
    "\n",
    "Then you can try the following program, adjusting the time to your preferred one, and canceling the automatic email sending by the cancer() function if needed.\n"
   ]
  },
  {
   "cell_type": "code",
   "execution_count": null,
   "id": "1c86160f-9397-4888-9b05-f9d414503817",
   "metadata": {},
   "outputs": [],
   "source": [
    "\n",
    "import smtplib\n",
    "import socket\n",
    "import schedule\n",
    "import time\n",
    "\n",
    "fromaddr = 'your sending addr\n",
    "ess'  \n",
    "toaddrs  = 'your receiving address'   \n",
    "      \n",
    "# log-in account\n",
    "username = 'your email account'  \n",
    "password = 'your pass word here'\n",
    "\n",
    "\n",
    "def sendIP():\n",
    "    hostname = socket.gethostname()\n",
    "    ipv4_address = socket.gethostbyname(hostname)\n",
    "    print(ipv4_address)\n",
    "    msg = ipv4_address\n",
    "    \n",
    "    server = smtplib.SMTP('smtp.gmail.com', 587)  \n",
    "    server.ehlo()\n",
    "    server.starttls()\n",
    "    server.login(username, password)  \n",
    "    server.sendmail(fromaddr, toaddrs, msg)  \n",
    "    server.quit()\n",
    "\n",
    "schedule.every().day.at(\"11:00\").do(sendIP)\n",
    "\n",
    "def cancle():\n",
    "    job_to_cancle = schedule.every().day.at(\"18:00\").do(sendIP)\n",
    "    schedule.cancle_job(job_to_cancle)\n",
    "    \n",
    "while True:\n",
    "    schedule.run_pending()\n",
    "    time.sleep(1)\n",
    "\n",
    "#cancle()"
   ]
  }
 ],
 "metadata": {
  "kernelspec": {
   "display_name": "Python 3 (ipykernel)",
   "language": "python",
   "name": "python3"
  },
  "language_info": {
   "codemirror_mode": {
    "name": "ipython",
    "version": 3
   },
   "file_extension": ".py",
   "mimetype": "text/x-python",
   "name": "python",
   "nbconvert_exporter": "python",
   "pygments_lexer": "ipython3",
   "version": "3.11.7"
  }
 },
 "nbformat": 4,
 "nbformat_minor": 5
}
